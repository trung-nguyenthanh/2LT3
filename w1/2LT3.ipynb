{
 "cells": [
  {
   "cell_type": "code",
   "execution_count": 2,
   "id": "8e1086ac",
   "metadata": {},
   "outputs": [
    {
     "name": "stdout",
     "output_type": "stream",
     "text": [
      "Họ tên\n",
      "MSSV\n",
      "Nhập vào số nguyên dương n: -5\n",
      "Nhập vào số nguyên dương n: 6\n",
      "Nhập vào phần tử cho list: 5\n",
      "Nhập vào phần tử cho list: -1\n",
      "Nhập vào phần tử cho list: 2\n",
      "Nhập vào phần tử cho list: 1\n",
      "Nhập vào phần tử cho list: -2\n",
      "Nhập vào phần tử cho list: 5\n",
      "5.0\n",
      "2.0\n",
      "5.0\n",
      "Ấn y để thực hiện lại, n để thoát: n\n"
     ]
    }
   ],
   "source": [
    "def nhap_dl():\n",
    "    while True:\n",
    "        n = int(input(\"Nhập vào số nguyên dương n: \"))\n",
    "        if n > 0:\n",
    "            break\n",
    "    list_t = []\n",
    "    for i in range(0,n):\n",
    "        list_t.append(float(input(\"Nhập vào phần tử cho list: \")))\n",
    "    return list_t\n",
    "def cuc_dai(list_t):\n",
    "    if list_t[0] > list_t[1]:\n",
    "        print(list_t[0])\n",
    "    for i in range(1, len(list_t) - 1):\n",
    "        if list_t[i] > list_t[i+1] and list_t[i] > list_t[i-1]:\n",
    "            print(list_t[i])\n",
    "    if list_t[len(list_t)-1] > list_t[len(list_t)-2]:\n",
    "        print(list_t[len(list_t)-1])\n",
    "print(\"Họ tên\")\n",
    "print(\"MSSV\")\n",
    "list_m = []\n",
    "while True:\n",
    "    list_m = nhap_dl()\n",
    "    cuc_dai(list_m)\n",
    "    tmp = input(\"Ấn y để thực hiện lại, n để thoát: \")\n",
    "    if (tmp == 'n'):\n",
    "        break"
   ]
  },
  {
   "cell_type": "code",
   "execution_count": null,
   "id": "f24af4d3",
   "metadata": {},
   "outputs": [],
   "source": []
  }
 ],
 "metadata": {
  "kernelspec": {
   "display_name": "Python 3 (ipykernel)",
   "language": "python",
   "name": "python3"
  },
  "language_info": {
   "codemirror_mode": {
    "name": "ipython",
    "version": 3
   },
   "file_extension": ".py",
   "mimetype": "text/x-python",
   "name": "python",
   "nbconvert_exporter": "python",
   "pygments_lexer": "ipython3",
   "version": "3.7.3"
  }
 },
 "nbformat": 4,
 "nbformat_minor": 5
}
